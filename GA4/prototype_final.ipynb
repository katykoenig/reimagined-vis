{
 "cells": [
  {
   "cell_type": "markdown",
   "metadata": {},
   "source": [
    "# Reimagined-Vis\n",
    "\n",
    "# v_a11y_lint"
   ]
  },
  {
   "cell_type": "code",
   "execution_count": 1,
   "metadata": {},
   "outputs": [],
   "source": [
    "# so we can import our software from another folder\n",
    "import sys\n",
    "sys.path.insert(0, '../v_a11y_lint')\n",
    "import v_a11ylint\n",
    "import test_fns as tf\n",
    "\n",
    "# these two are for making ex charts\n",
    "import altair as alt\n",
    "from vega_datasets import data\n",
    "\n",
    "%load_ext autoreload\n",
    "%autoreload 2"
   ]
  },
  {
   "cell_type": "markdown",
   "metadata": {},
   "source": [
    "### v_a11y_lint currently lints for the following for single layer visualization:\n",
    " * Existence of title\n",
    " * Length of title (is it descriptive?)\n",
    " * Color shemes (is a color scale too dissimilar, using CIEDE2000 distance formula for 2 x \"Just Noticeable Difference\")\n",
    " * Text to background color (contrast should be above 4.5:1 as defined by WCAG guidelines)\n",
    " * Font sizes (all must be more than 1.2 EM (16 pt) as defined by WCAG guidelines\n",
    " \n",
    "We filed an issue on Vega-Lite's page regarding adding patterns to visualization, but the issue was closed as it is not easily support in Vega yet and so hasn't tricked down to Vega-Lite and Altair. (The Altair workaround given was to export the chart and edit in Vega). Check [here](https://github.com/vega/vega-lite/issues/6062) for more info.\n",
    "\n",
    "Aditionally, the Altair visualization library allows users to set a global theme for all charts created after the theme is set as well as chart-specific attributes. Currently, we are linting the entire theme. Therefore, the visualization designer must decide which issues are relevant to their specific chart.\n",
    "\n",
    "Ex: You get a \"legend font too small\" flagged issue, but your chart does not have nor need a legend.\n",
    "\n",
    "In our example below, we create a theme ourselves, but v_a11y_lint supports the default theme in Altair as well! Additionally, our lint software should not have issues if colors or color maps are in hex or rgb format and color maps can even be in string representation, e.g. \"viridis\"."
   ]
  },
  {
   "cell_type": "markdown",
   "metadata": {},
   "source": [
    "## Step One:  Make our theme"
   ]
  },
  {
   "cell_type": "code",
   "execution_count": 2,
   "metadata": {},
   "outputs": [
    {
     "data": {
      "text/plain": [
       "ThemeRegistry.enable('my_custom_theme')"
      ]
     },
     "execution_count": 2,
     "metadata": {},
     "output_type": "execute_result"
    }
   ],
   "source": [
    "# build/edit for your own theme\n",
    "def example_theme():\n",
    "    return {\n",
    "    \"config\": {\n",
    "            \"title\": {\n",
    "                \"font\": \"Futura\",\n",
    "                \"fontSize\": 12,\n",
    "                \"anchor\": \"middle\",\n",
    "                \"color\": '#F5F5F5',\n",
    "            },\n",
    "         \"axisX\": {\n",
    "                \"grid\": False,\n",
    "                \"tickSize\": 6,\n",
    "             \"labelFontSize\": 10,\n",
    "             \"titleFontSize\": 12,\n",
    "         },\n",
    "        \"axisY\": {\n",
    "                \"labelFontSize\": 10,\n",
    "                \"tickSize\": 6,\n",
    "            \"titleFontSize\": 12,\n",
    "         },\n",
    "        \"background\": '#F5F5F5',\n",
    "        \"text\": {\n",
    "               \"color\": \"#D3D3D3\",\n",
    "               \"fontSize\": 10,\n",
    "               \"fontWeight\": 400,\n",
    "            \"baseline\": \"top\",\n",
    "            \"filled\": True,\n",
    "            \"lineBreak\": \"\\n\",\n",
    "           },\n",
    "            \"bar\": {\n",
    "                \"fill\": \"DarkGrey\"\n",
    "            },\n",
    "            \"line\": {\n",
    "               \"strokeWidth\": 3,\n",
    "           },\n",
    "        \"range\": {\n",
    "                \"category\": \"ylorrd\",\n",
    "                \"diverging\": \"blueorange\",\n",
    "            \"ramp\": \"ylorrd\",\n",
    "            \"ordinal\": \"ylorrd\",\n",
    "            \"heatmap\": \"viridis\"\n",
    "            },\n",
    "        \"legend\": {\n",
    "                \"titleFontSize\": 12\n",
    "            }\n",
    "    },\n",
    "    }\n",
    "# register and implement theme w/ altair\n",
    "alt.themes.register(\"my_custom_theme\", example_theme)\n",
    "alt.themes.enable(\"my_custom_theme\")"
   ]
  },
  {
   "cell_type": "markdown",
   "metadata": {},
   "source": [
    "## Step Two: Make visualization"
   ]
  },
  {
   "cell_type": "code",
   "execution_count": 3,
   "metadata": {},
   "outputs": [
    {
     "data": {
      "text/html": [
       "<div>\n",
       "<style scoped>\n",
       "    .dataframe tbody tr th:only-of-type {\n",
       "        vertical-align: middle;\n",
       "    }\n",
       "\n",
       "    .dataframe tbody tr th {\n",
       "        vertical-align: top;\n",
       "    }\n",
       "\n",
       "    .dataframe thead th {\n",
       "        text-align: right;\n",
       "    }\n",
       "</style>\n",
       "<table border=\"1\" class=\"dataframe\">\n",
       "  <thead>\n",
       "    <tr style=\"text-align: right;\">\n",
       "      <th></th>\n",
       "      <th>year</th>\n",
       "      <th>wheat</th>\n",
       "      <th>wages</th>\n",
       "    </tr>\n",
       "  </thead>\n",
       "  <tbody>\n",
       "    <tr>\n",
       "      <th>0</th>\n",
       "      <td>1565</td>\n",
       "      <td>41.0</td>\n",
       "      <td>5.00</td>\n",
       "    </tr>\n",
       "    <tr>\n",
       "      <th>1</th>\n",
       "      <td>1570</td>\n",
       "      <td>45.0</td>\n",
       "      <td>5.05</td>\n",
       "    </tr>\n",
       "    <tr>\n",
       "      <th>2</th>\n",
       "      <td>1575</td>\n",
       "      <td>42.0</td>\n",
       "      <td>5.08</td>\n",
       "    </tr>\n",
       "    <tr>\n",
       "      <th>3</th>\n",
       "      <td>1580</td>\n",
       "      <td>49.0</td>\n",
       "      <td>5.12</td>\n",
       "    </tr>\n",
       "    <tr>\n",
       "      <th>4</th>\n",
       "      <td>1585</td>\n",
       "      <td>41.5</td>\n",
       "      <td>5.15</td>\n",
       "    </tr>\n",
       "  </tbody>\n",
       "</table>\n",
       "</div>"
      ],
      "text/plain": [
       "   year  wheat  wages\n",
       "0  1565   41.0   5.00\n",
       "1  1570   45.0   5.05\n",
       "2  1575   42.0   5.08\n",
       "3  1580   49.0   5.12\n",
       "4  1585   41.5   5.15"
      ]
     },
     "execution_count": 3,
     "metadata": {},
     "output_type": "execute_result"
    }
   ],
   "source": [
    "# load in & view our data\n",
    "source = data.wheat()\n",
    "source.head()"
   ]
  },
  {
   "cell_type": "code",
   "execution_count": 4,
   "metadata": {},
   "outputs": [
    {
     "data": {
      "text/html": [
       "\n",
       "<div id=\"altair-viz-37dc702905e841ac84ecae3350c6bc28\"></div>\n",
       "<script type=\"text/javascript\">\n",
       "  (function(spec, embedOpt){\n",
       "    const outputDiv = document.getElementById(\"altair-viz-37dc702905e841ac84ecae3350c6bc28\");\n",
       "    const paths = {\n",
       "      \"vega\": \"https://cdn.jsdelivr.net/npm//vega@5?noext\",\n",
       "      \"vega-lib\": \"https://cdn.jsdelivr.net/npm//vega-lib?noext\",\n",
       "      \"vega-lite\": \"https://cdn.jsdelivr.net/npm//vega-lite@4.0.2?noext\",\n",
       "      \"vega-embed\": \"https://cdn.jsdelivr.net/npm//vega-embed@6?noext\",\n",
       "    };\n",
       "\n",
       "    function loadScript(lib) {\n",
       "      return new Promise(function(resolve, reject) {\n",
       "        var s = document.createElement('script');\n",
       "        s.src = paths[lib];\n",
       "        s.async = true;\n",
       "        s.onload = () => resolve(paths[lib]);\n",
       "        s.onerror = () => reject(`Error loading script: ${paths[lib]}`);\n",
       "        document.getElementsByTagName(\"head\")[0].appendChild(s);\n",
       "      });\n",
       "    }\n",
       "\n",
       "    function showError(err) {\n",
       "      outputDiv.innerHTML = `<div class=\"error\" style=\"color:red;\">${err}</div>`;\n",
       "      throw err;\n",
       "    }\n",
       "\n",
       "    function displayChart(vegaEmbed) {\n",
       "      vegaEmbed(outputDiv, spec, embedOpt)\n",
       "        .catch(err => showError(`Javascript Error: ${err.message}<br>This usually means there's a typo in your chart specification. See the javascript console for the full traceback.`));\n",
       "    }\n",
       "\n",
       "    if(typeof define === \"function\" && define.amd) {\n",
       "      requirejs.config({paths});\n",
       "      require([\"vega-embed\"], displayChart, err => showError(`Error loading script: ${err.message}`));\n",
       "    } else if (typeof vegaEmbed === \"function\") {\n",
       "      displayChart(vegaEmbed);\n",
       "    } else {\n",
       "      loadScript(\"vega\")\n",
       "        .then(() => loadScript(\"vega-lite\"))\n",
       "        .then(() => loadScript(\"vega-embed\"))\n",
       "        .catch(showError)\n",
       "        .then(() => displayChart(vegaEmbed));\n",
       "    }\n",
       "  })({\"config\": {\"title\": {\"font\": \"Futura\", \"fontSize\": 12, \"anchor\": \"middle\", \"color\": \"#F5F5F5\"}, \"axisX\": {\"grid\": false, \"tickSize\": 6, \"labelFontSize\": 10, \"titleFontSize\": 12}, \"axisY\": {\"labelFontSize\": 10, \"tickSize\": 6, \"titleFontSize\": 12}, \"background\": \"#F5F5F5\", \"text\": {\"color\": \"#D3D3D3\", \"fontSize\": 10, \"fontWeight\": 400, \"baseline\": \"top\", \"filled\": true, \"lineBreak\": \"\\n\"}, \"bar\": {\"fill\": \"DarkGrey\"}, \"line\": {\"strokeWidth\": 3}, \"range\": {\"category\": \"ylorrd\", \"diverging\": \"blueorange\", \"ramp\": \"ylorrd\", \"ordinal\": \"ylorrd\", \"heatmap\": \"viridis\"}, \"legend\": {\"titleFontSize\": 12}}, \"data\": {\"name\": \"data-76d1ce26ea5761007c35827e1564d86c\"}, \"mark\": \"bar\", \"encoding\": {\"x\": {\"type\": \"ordinal\", \"field\": \"year\"}, \"y\": {\"type\": \"quantitative\", \"field\": \"wheat\"}}, \"width\": 850, \"$schema\": \"https://vega.github.io/schema/vega-lite/v4.0.2.json\", \"datasets\": {\"data-76d1ce26ea5761007c35827e1564d86c\": [{\"year\": 1565, \"wheat\": 41.0, \"wages\": 5.0}, {\"year\": 1570, \"wheat\": 45.0, \"wages\": 5.05}, {\"year\": 1575, \"wheat\": 42.0, \"wages\": 5.08}, {\"year\": 1580, \"wheat\": 49.0, \"wages\": 5.12}, {\"year\": 1585, \"wheat\": 41.5, \"wages\": 5.15}, {\"year\": 1590, \"wheat\": 47.0, \"wages\": 5.25}, {\"year\": 1595, \"wheat\": 64.0, \"wages\": 5.54}, {\"year\": 1600, \"wheat\": 27.0, \"wages\": 5.61}, {\"year\": 1605, \"wheat\": 33.0, \"wages\": 5.69}, {\"year\": 1610, \"wheat\": 32.0, \"wages\": 5.78}, {\"year\": 1615, \"wheat\": 33.0, \"wages\": 5.94}, {\"year\": 1620, \"wheat\": 35.0, \"wages\": 6.01}, {\"year\": 1625, \"wheat\": 33.0, \"wages\": 6.12}, {\"year\": 1630, \"wheat\": 45.0, \"wages\": 6.22}, {\"year\": 1635, \"wheat\": 33.0, \"wages\": 6.3}, {\"year\": 1640, \"wheat\": 39.0, \"wages\": 6.37}, {\"year\": 1645, \"wheat\": 53.0, \"wages\": 6.45}, {\"year\": 1650, \"wheat\": 42.0, \"wages\": 6.5}, {\"year\": 1655, \"wheat\": 40.5, \"wages\": 6.6}, {\"year\": 1660, \"wheat\": 46.5, \"wages\": 6.75}, {\"year\": 1665, \"wheat\": 32.0, \"wages\": 6.8}, {\"year\": 1670, \"wheat\": 37.0, \"wages\": 6.9}, {\"year\": 1675, \"wheat\": 43.0, \"wages\": 7.0}, {\"year\": 1680, \"wheat\": 35.0, \"wages\": 7.3}, {\"year\": 1685, \"wheat\": 27.0, \"wages\": 7.6}, {\"year\": 1690, \"wheat\": 40.0, \"wages\": 8.0}, {\"year\": 1695, \"wheat\": 50.0, \"wages\": 8.5}, {\"year\": 1700, \"wheat\": 30.0, \"wages\": 9.0}, {\"year\": 1705, \"wheat\": 32.0, \"wages\": 10.0}, {\"year\": 1710, \"wheat\": 44.0, \"wages\": 11.0}, {\"year\": 1715, \"wheat\": 33.0, \"wages\": 11.75}, {\"year\": 1720, \"wheat\": 29.0, \"wages\": 12.5}, {\"year\": 1725, \"wheat\": 39.0, \"wages\": 13.0}, {\"year\": 1730, \"wheat\": 26.0, \"wages\": 13.3}, {\"year\": 1735, \"wheat\": 32.0, \"wages\": 13.6}, {\"year\": 1740, \"wheat\": 27.0, \"wages\": 14.0}, {\"year\": 1745, \"wheat\": 27.5, \"wages\": 14.5}, {\"year\": 1750, \"wheat\": 31.0, \"wages\": 15.0}, {\"year\": 1755, \"wheat\": 35.5, \"wages\": 15.7}, {\"year\": 1760, \"wheat\": 31.0, \"wages\": 16.5}, {\"year\": 1765, \"wheat\": 43.0, \"wages\": 17.6}, {\"year\": 1770, \"wheat\": 47.0, \"wages\": 18.5}, {\"year\": 1775, \"wheat\": 44.0, \"wages\": 19.5}, {\"year\": 1780, \"wheat\": 46.0, \"wages\": 21.0}, {\"year\": 1785, \"wheat\": 42.0, \"wages\": 23.0}, {\"year\": 1790, \"wheat\": 47.5, \"wages\": 25.5}, {\"year\": 1795, \"wheat\": 76.0, \"wages\": 27.5}, {\"year\": 1800, \"wheat\": 79.0, \"wages\": 28.5}, {\"year\": 1805, \"wheat\": 81.0, \"wages\": 29.5}, {\"year\": 1810, \"wheat\": 99.0, \"wages\": 30.0}, {\"year\": 1815, \"wheat\": 78.0, \"wages\": null}, {\"year\": 1820, \"wheat\": 54.0, \"wages\": null}]}}, {\"mode\": \"vega-lite\"});\n",
       "</script>"
      ],
      "text/plain": [
       "alt.Chart(...)"
      ]
     },
     "execution_count": 4,
     "metadata": {},
     "output_type": "execute_result"
    }
   ],
   "source": [
    "example_chart = alt.Chart(source).mark_bar().encode(\n",
    "    x='year:O',\n",
    "    y=\"wheat:Q\",\n",
    ").properties(width=850)\n",
    "example_chart"
   ]
  },
  {
   "cell_type": "markdown",
   "metadata": {},
   "source": [
    "![basic_bar](https://raw.githubusercontent.com/katykoenig/reimagined-vis/master/GA4/final-prototype-plots/bad_example.png)"
   ]
  },
  {
   "cell_type": "markdown",
   "metadata": {},
   "source": [
    "## Step Three: Run v_a11y_lint"
   ]
  },
  {
   "cell_type": "code",
   "execution_count": 5,
   "metadata": {},
   "outputs": [
    {
     "name": "stdout",
     "output_type": "stream",
     "text": [
      " color:\n",
      "\ttitle to background: colors too similar\n",
      " \t Recommendation: not enough contrast between colors - min. 4.5:1 needed\n",
      "\ttext to background: colors too similar\n",
      " \t Recommendation: not enough contrast between colors - min. 4.5:1 needed\n",
      " font:\n",
      "\t title:\n",
      "\t\tfontSize: font size too small\n",
      " \t\t Recommendation: 16px or higher\n",
      "\t axisX:\n",
      "\t\ttitleFontSize: font size too small\n",
      " \t\t Recommendation: 16px or higher\n",
      "\t axisY:\n",
      "\t\ttitleFontSize: font size too small\n",
      " \t\t Recommendation: 16px or higher\n",
      "\t text:\n",
      "\t\tfontSize: font size too small\n",
      " \t\t Recommendation: 16px or higher\n",
      "\t legend:\n",
      "\t\ttitleFontSize: font size too small\n",
      " \t\t Recommendation: 16px or higher\n",
      "title: chart needs title\n",
      "  Recommendation: descriptive title (10+ chars)\n"
     ]
    },
    {
     "data": {
      "text/plain": [
       "{'color': {'title to background': 'colors too similar',\n",
       "  'text to background': 'colors too similar'},\n",
       " 'font': {'title': {'fontSize': 'font size too small'},\n",
       "  'axisX': {'titleFontSize': 'font size too small'},\n",
       "  'axisY': {'titleFontSize': 'font size too small'},\n",
       "  'text': {'fontSize': 'font size too small'},\n",
       "  'legend': {'titleFontSize': 'font size too small'}},\n",
       " 'title': 'chart needs title'}"
      ]
     },
     "execution_count": 5,
     "metadata": {},
     "output_type": "execute_result"
    }
   ],
   "source": [
    "v_a11ylint.run_lint(example_chart, verbose=True)"
   ]
  },
  {
   "cell_type": "markdown",
   "metadata": {},
   "source": [
    "## Step Four: Update theme"
   ]
  },
  {
   "cell_type": "code",
   "execution_count": 6,
   "metadata": {},
   "outputs": [
    {
     "data": {
      "text/plain": [
       "ThemeRegistry.enable('my_custom_theme')"
      ]
     },
     "execution_count": 6,
     "metadata": {},
     "output_type": "execute_result"
    }
   ],
   "source": [
    "# build/edit for your own theme\n",
    "def updated_example_theme():\n",
    "    return {\n",
    "    \"config\": {\n",
    "            \"title\": {\n",
    "                \"font\": \"Futura\",\n",
    "                \"fontSize\": 16, #increase font size\n",
    "                \"anchor\": \"middle\",\n",
    "                \"color\": 'black', #change color\n",
    "            },\n",
    "         \"axisX\": {\n",
    "                \"grid\": False,\n",
    "                \"tickSize\": 6,\n",
    "             \"labelFontSize\": 16, #increase font size\n",
    "             \"titleFontSize\": 16, #increase font size\n",
    "         },\n",
    "        \"axisY\": {\n",
    "                \"labelFontSize\": 16, #increase font size\n",
    "                \"tickSize\": 6,\n",
    "            \"titleFontSize\": 16, #increase font size\n",
    "         },\n",
    "        \"background\": 'white', #change background color\n",
    "        \"text\": {\n",
    "               \"color\": \"purple\", #change color\n",
    "               \"fontSize\": 16, #increase font size\n",
    "               \"fontWeight\": 400,\n",
    "            \"baseline\": \"top\",\n",
    "            \"filled\": True,\n",
    "            \"lineBreak\": \"\\n\",\n",
    "           },\n",
    "            \"bar\": {\n",
    "                \"fill\": \"DarkGrey\"\n",
    "            },\n",
    "            \"line\": {\n",
    "               \"strokeWidth\": 3,\n",
    "           },\n",
    "        \"range\": {\n",
    "                \"category\": \"ylorrd\",\n",
    "                \"diverging\": \"blueorange\",\n",
    "            \"ramp\": \"ylorrd\",\n",
    "            \"ordinal\": \"ylorrd\",\n",
    "            \"heatmap\": \"viridis\"\n",
    "            },\n",
    "        \"legend\": {\n",
    "                \"titleFontSize\": 16 #increase font size\n",
    "            }\n",
    "    },\n",
    "    }\n",
    "# register and implement theme w/ altair\n",
    "alt.themes.register(\"my_custom_theme\", updated_example_theme)\n",
    "alt.themes.enable(\"my_custom_theme\")"
   ]
  },
  {
   "cell_type": "markdown",
   "metadata": {},
   "source": [
    "## Step Five: Update Chart"
   ]
  },
  {
   "cell_type": "code",
   "execution_count": 7,
   "metadata": {},
   "outputs": [
    {
     "data": {
      "text/html": [
       "\n",
       "<div id=\"altair-viz-67b583edf119445ca51be7a51aa317e4\"></div>\n",
       "<script type=\"text/javascript\">\n",
       "  (function(spec, embedOpt){\n",
       "    const outputDiv = document.getElementById(\"altair-viz-67b583edf119445ca51be7a51aa317e4\");\n",
       "    const paths = {\n",
       "      \"vega\": \"https://cdn.jsdelivr.net/npm//vega@5?noext\",\n",
       "      \"vega-lib\": \"https://cdn.jsdelivr.net/npm//vega-lib?noext\",\n",
       "      \"vega-lite\": \"https://cdn.jsdelivr.net/npm//vega-lite@4.0.2?noext\",\n",
       "      \"vega-embed\": \"https://cdn.jsdelivr.net/npm//vega-embed@6?noext\",\n",
       "    };\n",
       "\n",
       "    function loadScript(lib) {\n",
       "      return new Promise(function(resolve, reject) {\n",
       "        var s = document.createElement('script');\n",
       "        s.src = paths[lib];\n",
       "        s.async = true;\n",
       "        s.onload = () => resolve(paths[lib]);\n",
       "        s.onerror = () => reject(`Error loading script: ${paths[lib]}`);\n",
       "        document.getElementsByTagName(\"head\")[0].appendChild(s);\n",
       "      });\n",
       "    }\n",
       "\n",
       "    function showError(err) {\n",
       "      outputDiv.innerHTML = `<div class=\"error\" style=\"color:red;\">${err}</div>`;\n",
       "      throw err;\n",
       "    }\n",
       "\n",
       "    function displayChart(vegaEmbed) {\n",
       "      vegaEmbed(outputDiv, spec, embedOpt)\n",
       "        .catch(err => showError(`Javascript Error: ${err.message}<br>This usually means there's a typo in your chart specification. See the javascript console for the full traceback.`));\n",
       "    }\n",
       "\n",
       "    if(typeof define === \"function\" && define.amd) {\n",
       "      requirejs.config({paths});\n",
       "      require([\"vega-embed\"], displayChart, err => showError(`Error loading script: ${err.message}`));\n",
       "    } else if (typeof vegaEmbed === \"function\") {\n",
       "      displayChart(vegaEmbed);\n",
       "    } else {\n",
       "      loadScript(\"vega\")\n",
       "        .then(() => loadScript(\"vega-lite\"))\n",
       "        .then(() => loadScript(\"vega-embed\"))\n",
       "        .catch(showError)\n",
       "        .then(() => displayChart(vegaEmbed));\n",
       "    }\n",
       "  })({\"config\": {\"title\": {\"font\": \"Futura\", \"fontSize\": 16, \"anchor\": \"middle\", \"color\": \"black\"}, \"axisX\": {\"grid\": false, \"tickSize\": 6, \"labelFontSize\": 16, \"titleFontSize\": 16}, \"axisY\": {\"labelFontSize\": 16, \"tickSize\": 6, \"titleFontSize\": 16}, \"background\": \"white\", \"text\": {\"color\": \"purple\", \"fontSize\": 16, \"fontWeight\": 400, \"baseline\": \"top\", \"filled\": true, \"lineBreak\": \"\\n\"}, \"bar\": {\"fill\": \"DarkGrey\"}, \"line\": {\"strokeWidth\": 3}, \"range\": {\"category\": \"ylorrd\", \"diverging\": \"blueorange\", \"ramp\": \"ylorrd\", \"ordinal\": \"ylorrd\", \"heatmap\": \"viridis\"}, \"legend\": {\"titleFontSize\": 16}}, \"data\": {\"name\": \"data-76d1ce26ea5761007c35827e1564d86c\"}, \"mark\": \"bar\", \"encoding\": {\"x\": {\"type\": \"ordinal\", \"field\": \"year\"}, \"y\": {\"type\": \"quantitative\", \"field\": \"wheat\"}}, \"title\": \"Wheat Prices from 1565 to 1820\", \"width\": 850, \"$schema\": \"https://vega.github.io/schema/vega-lite/v4.0.2.json\", \"datasets\": {\"data-76d1ce26ea5761007c35827e1564d86c\": [{\"year\": 1565, \"wheat\": 41.0, \"wages\": 5.0}, {\"year\": 1570, \"wheat\": 45.0, \"wages\": 5.05}, {\"year\": 1575, \"wheat\": 42.0, \"wages\": 5.08}, {\"year\": 1580, \"wheat\": 49.0, \"wages\": 5.12}, {\"year\": 1585, \"wheat\": 41.5, \"wages\": 5.15}, {\"year\": 1590, \"wheat\": 47.0, \"wages\": 5.25}, {\"year\": 1595, \"wheat\": 64.0, \"wages\": 5.54}, {\"year\": 1600, \"wheat\": 27.0, \"wages\": 5.61}, {\"year\": 1605, \"wheat\": 33.0, \"wages\": 5.69}, {\"year\": 1610, \"wheat\": 32.0, \"wages\": 5.78}, {\"year\": 1615, \"wheat\": 33.0, \"wages\": 5.94}, {\"year\": 1620, \"wheat\": 35.0, \"wages\": 6.01}, {\"year\": 1625, \"wheat\": 33.0, \"wages\": 6.12}, {\"year\": 1630, \"wheat\": 45.0, \"wages\": 6.22}, {\"year\": 1635, \"wheat\": 33.0, \"wages\": 6.3}, {\"year\": 1640, \"wheat\": 39.0, \"wages\": 6.37}, {\"year\": 1645, \"wheat\": 53.0, \"wages\": 6.45}, {\"year\": 1650, \"wheat\": 42.0, \"wages\": 6.5}, {\"year\": 1655, \"wheat\": 40.5, \"wages\": 6.6}, {\"year\": 1660, \"wheat\": 46.5, \"wages\": 6.75}, {\"year\": 1665, \"wheat\": 32.0, \"wages\": 6.8}, {\"year\": 1670, \"wheat\": 37.0, \"wages\": 6.9}, {\"year\": 1675, \"wheat\": 43.0, \"wages\": 7.0}, {\"year\": 1680, \"wheat\": 35.0, \"wages\": 7.3}, {\"year\": 1685, \"wheat\": 27.0, \"wages\": 7.6}, {\"year\": 1690, \"wheat\": 40.0, \"wages\": 8.0}, {\"year\": 1695, \"wheat\": 50.0, \"wages\": 8.5}, {\"year\": 1700, \"wheat\": 30.0, \"wages\": 9.0}, {\"year\": 1705, \"wheat\": 32.0, \"wages\": 10.0}, {\"year\": 1710, \"wheat\": 44.0, \"wages\": 11.0}, {\"year\": 1715, \"wheat\": 33.0, \"wages\": 11.75}, {\"year\": 1720, \"wheat\": 29.0, \"wages\": 12.5}, {\"year\": 1725, \"wheat\": 39.0, \"wages\": 13.0}, {\"year\": 1730, \"wheat\": 26.0, \"wages\": 13.3}, {\"year\": 1735, \"wheat\": 32.0, \"wages\": 13.6}, {\"year\": 1740, \"wheat\": 27.0, \"wages\": 14.0}, {\"year\": 1745, \"wheat\": 27.5, \"wages\": 14.5}, {\"year\": 1750, \"wheat\": 31.0, \"wages\": 15.0}, {\"year\": 1755, \"wheat\": 35.5, \"wages\": 15.7}, {\"year\": 1760, \"wheat\": 31.0, \"wages\": 16.5}, {\"year\": 1765, \"wheat\": 43.0, \"wages\": 17.6}, {\"year\": 1770, \"wheat\": 47.0, \"wages\": 18.5}, {\"year\": 1775, \"wheat\": 44.0, \"wages\": 19.5}, {\"year\": 1780, \"wheat\": 46.0, \"wages\": 21.0}, {\"year\": 1785, \"wheat\": 42.0, \"wages\": 23.0}, {\"year\": 1790, \"wheat\": 47.5, \"wages\": 25.5}, {\"year\": 1795, \"wheat\": 76.0, \"wages\": 27.5}, {\"year\": 1800, \"wheat\": 79.0, \"wages\": 28.5}, {\"year\": 1805, \"wheat\": 81.0, \"wages\": 29.5}, {\"year\": 1810, \"wheat\": 99.0, \"wages\": 30.0}, {\"year\": 1815, \"wheat\": 78.0, \"wages\": null}, {\"year\": 1820, \"wheat\": 54.0, \"wages\": null}]}}, {\"mode\": \"vega-lite\"});\n",
       "</script>"
      ],
      "text/plain": [
       "alt.Chart(...)"
      ]
     },
     "execution_count": 7,
     "metadata": {},
     "output_type": "execute_result"
    }
   ],
   "source": [
    "example_chart2 = alt.Chart(source).mark_bar().encode(\n",
    "    x='year:O',\n",
    "    y=\"wheat:Q\",\n",
    ").properties(width=850)\n",
    "# add chart title\n",
    "example_chart2.title = \"Wheat Prices from 1565 to 1820\"\n",
    "example_chart2"
   ]
  },
  {
   "cell_type": "markdown",
   "metadata": {},
   "source": [
    "![good_bar](https://raw.githubusercontent.com/katykoenig/reimagined-vis/master/GA4/final-prototype-plots/good_example.png)"
   ]
  },
  {
   "cell_type": "markdown",
   "metadata": {},
   "source": [
    "## Step Six: Check for accessibility with v_a11y_lint"
   ]
  },
  {
   "cell_type": "code",
   "execution_count": 8,
   "metadata": {},
   "outputs": [
    {
     "data": {
      "text/plain": [
       "'Visualization is Accessible!'"
      ]
     },
     "execution_count": 8,
     "metadata": {},
     "output_type": "execute_result"
    }
   ],
   "source": [
    "v_a11ylint.run_lint(example_chart2, verbose=True)"
   ]
  },
  {
   "cell_type": "markdown",
   "metadata": {},
   "source": [
    "Now, out visualization is accessible and can be saved and used as per usual."
   ]
  },
  {
   "cell_type": "markdown",
   "metadata": {},
   "source": [
    "## Your turn\n",
    "\n",
    "Below, we offer the chance for users to set/edit their own theme, quickly create a chart of their choosing from the Altair examples library, and then run v_a11y_lint on this chart to check for accessible. Users can then update the them to make the visualization more accessible."
   ]
  },
  {
   "cell_type": "markdown",
   "metadata": {},
   "source": [
    "### Set a theme (example below)\n",
    "#### or if you would like to use the default theme run the cell below"
   ]
  },
  {
   "cell_type": "code",
   "execution_count": 85,
   "metadata": {},
   "outputs": [],
   "source": [
    "tf.reset_theme()"
   ]
  },
  {
   "cell_type": "code",
   "execution_count": null,
   "metadata": {},
   "outputs": [],
   "source": [
    "# credit to my friend, Lilian Huang for this theme\n",
    "# https://lilianhj.github.io/dataviz-static-portfolio/\n",
    "\n",
    "# build/edit for your own theme\n",
    "def class_theme():\n",
    "    main_palette = [\"#385ed4\",\"#55b748\",\"#db2b27\",\"#b589da\",\n",
    "                    \"#b75f31\",\"#1696d2\",\"#fdbf11\",\"#ff1ae4\"]\n",
    "    sequential_palette = [\"#cfe8f3\",\"#aaecff\",\"#a2d4ec\",\n",
    "                          \"#73bfe2\",\"#46abdb\",\"#1696d2\",\"#12719e\",\n",
    "                          \"#0a4c6a\",\"#062635\"]\n",
    "    return {\n",
    "    \"config\": {\n",
    "            \"title\": {\n",
    "                \"font\": \"Futura\",\n",
    "                \"fontSize\": 18,\n",
    "                \"anchor\": \"middle\",\n",
    "                \"color\": \"darkblue\",\n",
    "            },\n",
    "         \"axisX\": {\n",
    "                \"grid\": False,\n",
    "                \"tickSize\": 6,\n",
    "             \"labelFontSize\": 10,\n",
    "             \"titleFontSize\": 12,\n",
    "         },\n",
    "        \"axisY\": {\n",
    "                \"labelFontSize\": 10,\n",
    "                \"tickSize\": 6,\n",
    "            \"titleFontSize\": 12,\n",
    "         },\n",
    "        \"background\": \"white\",\n",
    "        \"text\": {\n",
    "               \"color\": \"#686863\",\n",
    "               \"fontSize\": 10,\n",
    "               \"fontWeight\": 400,\n",
    "            \"baseline\": \"top\",\n",
    "            \"filled\": True,\n",
    "            \"lineBreak\": \"\\n\",\n",
    "           },\n",
    "            \"bar\": {\n",
    "                \"fill\": \"#1696d2\"\n",
    "            },\n",
    "            \"line\": {\n",
    "               \"strokeWidth\": 3,\n",
    "           },\n",
    "        \"range\": {\n",
    "                \"category\": main_palette,\n",
    "                \"diverging\": \"blueorange\",\n",
    "            \"ramp\": sequential_palette,\n",
    "            \"ordinal\": sequential_palette,\n",
    "            \"heatmap\": sequential_palette\n",
    "            },\n",
    "        \"legend\": {\n",
    "                \"titleFontSize\": 12\n",
    "            }\n",
    "    },\n",
    "    }\n",
    "\n",
    "alt.themes.register(\"my_custom_theme\", class_theme)\n",
    "alt.themes.enable(\"my_custom_theme\")"
   ]
  },
  {
   "cell_type": "markdown",
   "metadata": {},
   "source": [
    "### Now, make a chart and check for accessibility!\n",
    "Find examples here: https://altair-viz.github.io/gallery/index.html"
   ]
  },
  {
   "cell_type": "code",
   "execution_count": null,
   "metadata": {},
   "outputs": [],
   "source": [
    "# make your chart here"
   ]
  },
  {
   "cell_type": "code",
   "execution_count": null,
   "metadata": {},
   "outputs": [],
   "source": [
    "# run v_a11y_lint on your chart here"
   ]
  }
 ],
 "metadata": {
  "kernelspec": {
   "display_name": "Python 3",
   "language": "python",
   "name": "python3"
  },
  "language_info": {
   "codemirror_mode": {
    "name": "ipython",
    "version": 3
   },
   "file_extension": ".py",
   "mimetype": "text/x-python",
   "name": "python",
   "nbconvert_exporter": "python",
   "pygments_lexer": "ipython3",
   "version": "3.7.1"
  }
 },
 "nbformat": 4,
 "nbformat_minor": 2
}
