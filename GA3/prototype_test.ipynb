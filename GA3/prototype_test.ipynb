{
 "cells": [
  {
   "cell_type": "markdown",
   "metadata": {},
   "source": [
    "# Reimagined-Vis\n",
    "\n",
    "# v_a11y_lint"
   ]
  },
  {
   "cell_type": "code",
   "execution_count": 4,
   "metadata": {},
   "outputs": [],
   "source": [
    "import altair as alt\n",
    "from vega_datasets import data\n",
    "import v_a11ylint as val\n",
    "import test_fns as tf\n",
    "\n",
    "%load_ext autoreload\n",
    "%autoreload 2"
   ]
  },
  {
   "cell_type": "markdown",
   "metadata": {},
   "source": [
    "#### Note: we are currently only linting for the following:\n",
    " * Existence of title\n",
    " * Length of title (is it descriptive?)\n",
    " * Color shemes (is a color scale too dissimilar, using CIEDE2000 distance formula for 2 x \"Just Noticeable Difference\")\n",
    " * Text to background color (contrast should be above 4.5:1 as defined by WCAG guidelines)\n",
    " * Font sizes (all must be more than 1.2 EM (16 pt) as defined by WCAG guidelines\n",
    "\n",
    "Aditionally, the Altair visualization library allows users to set a global theme for all charts created after the theme is set as well as chart-specific attributes. Currently, we are only linting the entire theme. Therefore, issues will be printed which may not be relevant to the type of chart plotted, e.g. \"legend font too small\" printed when chart does not have nor need a legend. Our next step for our final prototype is to have only relevant error messages print."
   ]
  },
  {
   "cell_type": "markdown",
   "metadata": {},
   "source": [
    "## Example One: Not very accesibile visualization"
   ]
  },
  {
   "cell_type": "markdown",
   "metadata": {},
   "source": [
    "### First, we set our theme"
   ]
  },
  {
   "cell_type": "code",
   "execution_count": 5,
   "metadata": {},
   "outputs": [],
   "source": [
    "tf.bad_theme()\n",
    "tf.set_theme(tf.bad_theme)"
   ]
  },
  {
   "cell_type": "markdown",
   "metadata": {},
   "source": [
    "### Then, we make our chart"
   ]
  },
  {
   "cell_type": "code",
   "execution_count": 6,
   "metadata": {},
   "outputs": [],
   "source": [
    "basic_bar = tf.make_basic_bar()\n",
    "basic_bar"
   ]
  },
  {
   "cell_type": "markdown",
   "metadata": {},
   "source": [
    "![basic_bar](https://raw.githubusercontent.com/katykoenig/reimagined-vis/master/GA3/prototype-plots/bad_visualization.png)"
   ]
  },
  {
   "cell_type": "markdown",
   "metadata": {},
   "source": [
    "### Now, we run our lint software on our chart."
   ]
  },
  {
   "cell_type": "code",
   "execution_count": 8,
   "metadata": {},
   "outputs": [
    {
     "data": {
      "text/plain": [
       "{'color': {'text to background': 'colors too similar',\n",
       "  'title color to background': 'colors too similar'},\n",
       " 'font': {'axisX': {'titleFontSize': 'font size too small: font should be at least 16px'},\n",
       "  'axisY': {'titleFontSize': 'font size too small: font should be at least 16px'},\n",
       "  'text': {'fontSize': 'font size too small: font should be at least 16px'},\n",
       "  'legend': {'titleFontSize': 'font size too small: font should be at least 16px'}},\n",
       " 'title': 'Chart needs title'}"
      ]
     },
     "execution_count": 8,
     "metadata": {},
     "output_type": "execute_result"
    }
   ],
   "source": [
    "val.run_lint(basic_bar)"
   ]
  },
  {
   "cell_type": "markdown",
   "metadata": {},
   "source": [
    "As we can see above, this chart has a lot of issues! In the cells below, we update our theme (source code for each theme can be found out github [here](https://github.com/katykoenig/reimagined-vis/blob/master/v_a11y_lint/test_fns.py)."
   ]
  },
  {
   "cell_type": "markdown",
   "metadata": {},
   "source": [
    "## Example Two: A Better Visualization"
   ]
  },
  {
   "cell_type": "markdown",
   "metadata": {},
   "source": [
    "### Now, we set our updated theme."
   ]
  },
  {
   "cell_type": "code",
   "execution_count": 9,
   "metadata": {},
   "outputs": [],
   "source": [
    "tf.better_theme()\n",
    "tf.set_theme(tf.better_theme)"
   ]
  },
  {
   "cell_type": "markdown",
   "metadata": {},
   "source": [
    "### Here's our updated chart."
   ]
  },
  {
   "cell_type": "code",
   "execution_count": 10,
   "metadata": {},
   "outputs": [],
   "source": [
    "better_chart = tf.make_basic_bar('A vs. B')\n",
    "better_chart"
   ]
  },
  {
   "cell_type": "markdown",
   "metadata": {},
   "source": [
    "![better_chart](https://raw.githubusercontent.com/katykoenig/reimagined-vis/master/GA3/prototype-plots/better_visualization.png)"
   ]
  },
  {
   "cell_type": "markdown",
   "metadata": {},
   "source": [
    "### Again, we run our lint software on this chart"
   ]
  },
  {
   "cell_type": "code",
   "execution_count": 88,
   "metadata": {},
   "outputs": [
    {
     "data": {
      "text/plain": [
       "{'color': {'text to background': 'colors too similar'},\n",
       " 'font': {'legend': {'titleFontSize': 'font size too small: font should be at least 16px'},\n",
       "  'title length': 'Chart title lacks description'}}"
      ]
     },
     "execution_count": 88,
     "metadata": {},
     "output_type": "execute_result"
    }
   ],
   "source": [
    "val.run_lint(better_chart)"
   ]
  },
  {
   "cell_type": "markdown",
   "metadata": {},
   "source": [
    "And look, we have fewer issues than in our original chart. Let's address these below!"
   ]
  },
  {
   "cell_type": "markdown",
   "metadata": {},
   "source": [
    "## Example Three: An Accessible Visualization"
   ]
  },
  {
   "cell_type": "markdown",
   "metadata": {},
   "source": [
    "### Update our theme"
   ]
  },
  {
   "cell_type": "code",
   "execution_count": 11,
   "metadata": {},
   "outputs": [],
   "source": [
    "tf.best_theme()\n",
    "tf.set_theme(tf.best_theme)"
   ]
  },
  {
   "cell_type": "markdown",
   "metadata": {},
   "source": [
    "### Make our chart"
   ]
  },
  {
   "cell_type": "code",
   "execution_count": 12,
   "metadata": {},
   "outputs": [],
   "source": [
    "best_chart = tf.make_basic_bar('Variable A by Variable B: Category D Highest')\n",
    "best_chart"
   ]
  },
  {
   "cell_type": "markdown",
   "metadata": {},
   "source": [
    "![best_chart](https://raw.githubusercontent.com/katykoenig/reimagined-vis/master/GA3/prototype-plots/best_visualization.png)"
   ]
  },
  {
   "cell_type": "markdown",
   "metadata": {},
   "source": [
    "### Run our v_a11y_lint"
   ]
  },
  {
   "cell_type": "code",
   "execution_count": 91,
   "metadata": {},
   "outputs": [
    {
     "data": {
      "text/plain": [
       "'Visualization is Accessible!'"
      ]
     },
     "execution_count": 91,
     "metadata": {},
     "output_type": "execute_result"
    }
   ],
   "source": [
    "val.run_lint(best_chart)"
   ]
  },
  {
   "cell_type": "markdown",
   "metadata": {},
   "source": [
    "Yay! Our chart is now much more accessible for low vision users."
   ]
  },
  {
   "cell_type": "markdown",
   "metadata": {},
   "source": [
    "## Your turn\n",
    "\n",
    "Below, we offer the chance for users to set/edit their own theme, quickly create a chart of their choosing from the Altair examples library, and then run v_a11y_lint on this chart to check for accessible. Users can then update the them to make the visualization more accessible."
   ]
  },
  {
   "cell_type": "markdown",
   "metadata": {},
   "source": [
    "### Set a theme"
   ]
  },
  {
   "cell_type": "code",
   "execution_count": 13,
   "metadata": {},
   "outputs": [
    {
     "data": {
      "text/plain": [
       "ThemeRegistry.enable('my_custom_theme')"
      ]
     },
     "execution_count": 13,
     "metadata": {},
     "output_type": "execute_result"
    }
   ],
   "source": [
    "# credit to Lilian Huang for this theme\n",
    "# https://lilianhj.github.io/dataviz-static-portfolio/\n",
    "\n",
    "# build/edit for your own theme\n",
    "def class_theme():\n",
    "    main_palette = [\"#385ed4\",\"#55b748\",\"#db2b27\",\"#b589da\",\n",
    "                    \"#b75f31\",\"#1696d2\",\"#fdbf11\",\"#ff1ae4\"]\n",
    "    sequential_palette = [\"#cfe8f3\",\"#aaecff\",\"#a2d4ec\",\n",
    "                          \"#73bfe2\",\"#46abdb\",\"#1696d2\",\"#12719e\",\n",
    "                          \"#0a4c6a\",\"#062635\"]\n",
    "    return {\n",
    "    \"config\": {\n",
    "            \"title\": {\n",
    "                \"font\": \"Futura\",\n",
    "                \"fontSize\": 18,\n",
    "                \"anchor\": \"middle\",\n",
    "                \"color\": \"darkblue\",\n",
    "            },\n",
    "         \"axisX\": {\n",
    "                \"grid\": False,\n",
    "                \"tickSize\": 6,\n",
    "             \"labelFontSize\": 10,\n",
    "             \"titleFontSize\": 12,\n",
    "         },\n",
    "        \"axisY\": {\n",
    "                \"labelFontSize\": 10,\n",
    "                \"tickSize\": 6,\n",
    "            \"titleFontSize\": 12,\n",
    "         },\n",
    "        \"background\": \"white\",\n",
    "        \"text\": {\n",
    "               \"color\": \"#686863\",\n",
    "               \"fontSize\": 10,\n",
    "               \"fontWeight\": 400,\n",
    "            \"baseline\": \"top\",\n",
    "            \"filled\": True,\n",
    "            \"lineBreak\": \"\\n\",\n",
    "           },\n",
    "            \"bar\": {\n",
    "                \"fill\": \"#1696d2\"\n",
    "            },\n",
    "            \"line\": {\n",
    "               \"strokeWidth\": 3,\n",
    "           },\n",
    "        \"range\": {\n",
    "                \"category\": main_palette,\n",
    "                \"diverging\": \"blueorange\",\n",
    "            \"ramp\": sequential_palette,\n",
    "            \"ordinal\": sequential_palette,\n",
    "            \"heatmap\": sequential_palette\n",
    "            },\n",
    "        \"legend\": {\n",
    "                \"titleFontSize\": 12\n",
    "            }\n",
    "    },\n",
    "    }\n",
    "\n",
    "alt.themes.register(\"my_custom_theme\", class_theme)\n",
    "alt.themes.enable(\"my_custom_theme\")"
   ]
  },
  {
   "cell_type": "markdown",
   "metadata": {},
   "source": [
    "### Now, make a chart!\n",
    "Find examples here: https://altair-viz.github.io/gallery/index.html"
   ]
  },
  {
   "cell_type": "code",
   "execution_count": 14,
   "metadata": {},
   "outputs": [],
   "source": [
    "source = data.movies.url\n",
    "# Top 10 movies by IMBD rating\n",
    "test_chart = alt.Chart(\n",
    "    source,\n",
    ").mark_bar().encode(\n",
    "    x=alt.X('Title:N', sort='-y'),\n",
    "    y=alt.Y('IMDB_Rating:Q'),\n",
    "    color=alt.Color('IMDB_Rating:Q')\n",
    "\n",
    ").transform_window(\n",
    "    rank='rank(IMDB_Rating)',\n",
    "    sort=[alt.SortField('IMDB_Rating', order='descending')]\n",
    ").transform_filter(\n",
    "    (alt.datum.rank < 10)\n",
    ")\n",
    "test_chart"
   ]
  },
  {
   "cell_type": "markdown",
   "metadata": {},
   "source": [
    "![user_vis1](https://raw.githubusercontent.com/katykoenig/reimagined-vis/master/GA3/prototype-plots/user_vis.png)"
   ]
  },
  {
   "cell_type": "code",
   "execution_count": 15,
   "metadata": {},
   "outputs": [
    {
     "data": {
      "text/plain": [
       "{'color': {'text to background': 'colors too similar'},\n",
       " 'font': {'axisX': {'titleFontSize': 'font size too small: font should be at least 16px'},\n",
       "  'axisY': {'titleFontSize': 'font size too small: font should be at least 16px'},\n",
       "  'text': {'fontSize': 'font size too small: font should be at least 16px'},\n",
       "  'legend': {'titleFontSize': 'font size too small: font should be at least 16px'}},\n",
       " 'title': 'Chart needs title'}"
      ]
     },
     "execution_count": 15,
     "metadata": {},
     "output_type": "execute_result"
    }
   ],
   "source": [
    "val.run_lint(test_chart)"
   ]
  },
  {
   "cell_type": "code",
   "execution_count": 16,
   "metadata": {},
   "outputs": [],
   "source": [
    "source = data.iowa_electricity()\n",
    "\n",
    "test2 = alt.Chart(source).mark_area().encode(\n",
    "    x=\"year:T\",\n",
    "    y=\"net_generation:Q\",\n",
    "    color=\"source:N\"\n",
    ")\n",
    "test2"
   ]
  },
  {
   "cell_type": "markdown",
   "metadata": {},
   "source": [
    "![user_vis2](https://raw.githubusercontent.com/katykoenig/reimagined-vis/master/GA3/prototype-plots/user_vis_bad.png)"
   ]
  },
  {
   "cell_type": "code",
   "execution_count": 51,
   "metadata": {},
   "outputs": [
    {
     "data": {
      "text/plain": [
       "{'color': {'text to background': 'colors too similar'},\n",
       " 'font': {'axisX': {'titleFontSize': 'font size too small: font should be at least 16px'},\n",
       "  'axisY': {'titleFontSize': 'font size too small: font should be at least 16px'},\n",
       "  'text': {'fontSize': 'font size too small: font should be at least 16px'},\n",
       "  'legend': {'titleFontSize': 'font size too small: font should be at least 16px'}},\n",
       " 'title': 'Chart needs title'}"
      ]
     },
     "execution_count": 51,
     "metadata": {},
     "output_type": "execute_result"
    }
   ],
   "source": [
    "val.run_lint(test2)"
   ]
  },
  {
   "cell_type": "code",
   "execution_count": 17,
   "metadata": {},
   "outputs": [
    {
     "data": {
      "text/plain": [
       "ThemeRegistry.enable('my_custom_theme')"
      ]
     },
     "execution_count": 17,
     "metadata": {},
     "output_type": "execute_result"
    }
   ],
   "source": [
    "def class_theme_updated():\n",
    "    main_palette = [\"#385ed4\",\"#55b748\",\"#db2b27\",\"#b589da\",\n",
    "                    \"#b75f31\",\"#1696d2\",\"#fdbf11\",\"#ff1ae4\"]\n",
    "    sequential_palette = [\"#cfe8f3\",\"#aaecff\",\"#a2d4ec\",\n",
    "                          \"#73bfe2\",\"#46abdb\",\"#1696d2\",\"#12719e\",\n",
    "                          \"#0a4c6a\",\"#062635\"]\n",
    "    return {\n",
    "    \"config\": {\n",
    "            \"title\": {\n",
    "                \"font\": \"Futura\",\n",
    "                \"fontSize\": 18,\n",
    "                \"anchor\": \"middle\",\n",
    "                \"color\": \"darkblue\",\n",
    "            },\n",
    "         \"axisX\": {\n",
    "                \"grid\": False,\n",
    "                \"tickSize\": 6,\n",
    "             \"labelFontSize\": 16,\n",
    "             \"titleFontSize\": 16,\n",
    "         },\n",
    "        \"axisY\": {\n",
    "                \"labelFontSize\": 16,\n",
    "                \"tickSize\": 6,\n",
    "            \"titleFontSize\": 16,\n",
    "         },\n",
    "        \"background\": \"white\",\n",
    "        \"text\": {\n",
    "               \"color\": \"#686863\",\n",
    "               \"fontSize\": 16,\n",
    "               \"fontWeight\": 400,\n",
    "            \"baseline\": \"top\",\n",
    "            \"filled\": True,\n",
    "            \"lineBreak\": \"\\n\",\n",
    "           },\n",
    "            \"bar\": {\n",
    "                \"fill\": \"#1696d2\"\n",
    "            },\n",
    "            \"line\": {\n",
    "               \"strokeWidth\": 3,\n",
    "           },\n",
    "        \"range\": {\n",
    "                \"category\": main_palette,\n",
    "                \"diverging\": \"blueorange\",\n",
    "            \"ramp\": sequential_palette,\n",
    "            \"ordinal\": sequential_palette,\n",
    "            \"heatmap\": sequential_palette\n",
    "            },\n",
    "        \"legend\": {\n",
    "                \"titleFontSize\": 16\n",
    "            }\n",
    "    },\n",
    "    }\n",
    "\n",
    "alt.themes.register(\"my_custom_theme\", class_theme_updated)\n",
    "alt.themes.enable(\"my_custom_theme\")"
   ]
  },
  {
   "cell_type": "code",
   "execution_count": 18,
   "metadata": {},
   "outputs": [],
   "source": [
    "source = data.iowa_electricity()\n",
    "test3 = alt.Chart(source).mark_area().encode(\n",
    "    x=\"year:T\",\n",
    "    y=\"net_generation:Q\",\n",
    "    color=\"source:N\"\n",
    ")\n",
    "test3"
   ]
  },
  {
   "cell_type": "markdown",
   "metadata": {},
   "source": [
    "![user_vis3](https://raw.githubusercontent.com/katykoenig/reimagined-vis/master/GA3/prototype-plots/user_vis_better.png)"
   ]
  },
  {
   "cell_type": "code",
   "execution_count": 12,
   "metadata": {},
   "outputs": [
    {
     "data": {
      "text/plain": [
       "{'color': {'text to background': 'colors too similar'},\n",
       " 'title': 'Chart needs title'}"
      ]
     },
     "execution_count": 12,
     "metadata": {},
     "output_type": "execute_result"
    }
   ],
   "source": [
    "val.run_lint(test3)"
   ]
  },
  {
   "cell_type": "markdown",
   "metadata": {},
   "source": [
    "And now, you've made a more accessible visualization without having it be a \"special\" visualization/tool for those with low vision."
   ]
  }
 ],
 "metadata": {
  "kernelspec": {
   "display_name": "Python 3",
   "language": "python",
   "name": "python3"
  },
  "language_info": {
   "codemirror_mode": {
    "name": "ipython",
    "version": 3
   },
   "file_extension": ".py",
   "mimetype": "text/x-python",
   "name": "python",
   "nbconvert_exporter": "python",
   "pygments_lexer": "ipython3",
   "version": "3.7.1"
  }
 },
 "nbformat": 4,
 "nbformat_minor": 2
}
