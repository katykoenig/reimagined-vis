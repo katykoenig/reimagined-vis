{
 "cells": [
  {
   "cell_type": "markdown",
   "metadata": {},
   "source": [
    "# v_a11y_lint\n",
    "## User Study: Programmers"
   ]
  },
  {
   "cell_type": "markdown",
   "metadata": {},
   "source": [
    "### Description:\n",
    "V_a11y_lint is a lint software to assist in the creation of visualizations that are accessible for low vision viewers. Lint programs analyze source code for bugs, errors and stylistic issues has been used to foster better coding practices. Similarly, v_a11y_lint flags accessibility issues for a single-layer Altair chart object and provides suggestions for fixing these issues if requested by the programmer."
   ]
  },
  {
   "cell_type": "markdown",
   "metadata": {},
   "source": [
    "### Consent Form:\n",
    "Please review our consent form [here](https://github.com/katykoenig/reimagined-vis/blob/master/v_a11y_lint/user-study-templates/user_study_consent.pdf)."
   ]
  },
  {
   "cell_type": "markdown",
   "metadata": {},
   "source": [
    "### Directions:\n",
    "\n",
    "1.) Fill out information regarding your background:\n",
    "https://forms.gle/UE7tgftefp6zg1Hi8\n",
    "\n",
    "2.) Complete the cells below to the best of your abilities.\n",
    "    Note: this is not a test. There are no right or wrong answers.\n",
    "\n",
    "3.) Fill out questionnaire regarding experience with v_a11y_lint:\n",
    "https://forms.gle/1HhAM22HioBcEuxd6"
   ]
  },
  {
   "cell_type": "markdown",
   "metadata": {},
   "source": [
    "    "
   ]
  },
  {
   "cell_type": "code",
   "execution_count": 3,
   "metadata": {},
   "outputs": [],
   "source": [
    "import altair as alt\n",
    "from vega_datasets import data\n",
    "\n",
    "import sys\n",
    "sys.path.append('../')\n",
    "import v_a11ylint\n",
    "import test_fns as tf\n",
    "\n",
    "%load_ext autoreload\n",
    "%autoreload 2"
   ]
  },
  {
   "cell_type": "markdown",
   "metadata": {},
   "source": [
    "## Build a theme in Altair\n",
    "\n",
    "Build a theme (or use a theme you have previously created) in Altair below. "
   ]
  },
  {
   "cell_type": "code",
   "execution_count": null,
   "metadata": {},
   "outputs": [],
   "source": []
  },
  {
   "cell_type": "markdown",
   "metadata": {},
   "source": [
    "Below, we provide code for an example theme."
   ]
  },
  {
   "cell_type": "code",
   "execution_count": 53,
   "metadata": {},
   "outputs": [],
   "source": [
    "def example_theme():\n",
    "    return {\n",
    "    \"config\": {\n",
    "            \"title\": {\n",
    "                \"font\": \"Futura\",\n",
    "                \"fontSize\": 18,\n",
    "                \"anchor\": \"middle\",\n",
    "                \"color\": '#F5F5F5',\n",
    "            },\n",
    "         \"axisX\": {\n",
    "                \"grid\": False,\n",
    "                \"tickSize\": 6,\n",
    "             \"labelFontSize\": 10,\n",
    "             \"titleFontSize\": 12,\n",
    "         },\n",
    "        \"axisY\": {\n",
    "                \"labelFontSize\": 10,\n",
    "                \"tickSize\": 6,\n",
    "            \"titleFontSize\": 12,\n",
    "         },\n",
    "        \"background\": '#F5F5F5',\n",
    "        \"text\": {\n",
    "               \"color\": \"#D3D3D3\",\n",
    "               \"fontSize\": 10,\n",
    "               \"fontWeight\": 400,\n",
    "            \"baseline\": \"top\",\n",
    "            \"filled\": True,\n",
    "            \"lineBreak\": \"\\n\",\n",
    "           },\n",
    "            \"bar\": {\n",
    "                \"fill\": \"DarkGrey\"\n",
    "            },\n",
    "            \"line\": {\n",
    "               \"strokeWidth\": 3,\n",
    "           },\n",
    "        \"range\": {\n",
    "                \"category\": \"ylorrd\",\n",
    "                \"diverging\": \"blueorange\",\n",
    "            \"ramp\": \"ylorrd\",\n",
    "            \"ordinal\": \"ylorrd\",\n",
    "            \"heatmap\": \"viridis\"\n",
    "            },\n",
    "        \"legend\": {\n",
    "                \"titleFontSize\": 12\n",
    "            }\n",
    "    },\n",
    "    }"
   ]
  },
  {
   "cell_type": "code",
   "execution_count": 54,
   "metadata": {},
   "outputs": [],
   "source": [
    "# Set your theme using the function below\n",
    "# tf.set_theme(your_theme)"
   ]
  },
  {
   "cell_type": "markdown",
   "metadata": {},
   "source": [
    "## Create a chart object in Altair using this theme\n",
    "\n",
    "Create a chart below using your previously defined theme.\n",
    "\n",
    "Please both display this chart object but also assign the object to a variable to be later used in linting process.\n",
    "\n",
    "For some examples: https://altair-viz.github.io/gallery/index.html"
   ]
  },
  {
   "cell_type": "code",
   "execution_count": null,
   "metadata": {},
   "outputs": [],
   "source": []
  },
  {
   "cell_type": "markdown",
   "metadata": {},
   "source": [
    "## Use v_a11y_lint\n",
    "\n",
    "Use v_a11y_lint to lint your chart object.\n",
    "\n",
    "v_a11y_lint has one main function, run_lint(). This functions takes one required argument, the chart object, and one optional boolean argument, verbose. If verbose is set to True, you will see additional information regarding how to edit your theme for accessibility.\n",
    "\n",
    "Examples:\n",
    "\n",
    "v_a11ylint.run_lint(chart_obj)\n",
    "\n",
    "v_a11ylint.run_lint(chart_obj, True)\n",
    "\n",
    "This function outputs a dictionary of the accessibility issues regarding your visualization as well as printing a more legible version of this dictionary."
   ]
  },
  {
   "cell_type": "code",
   "execution_count": null,
   "metadata": {},
   "outputs": [],
   "source": []
  },
  {
   "cell_type": "markdown",
   "metadata": {},
   "source": [
    "## Update Theme\n",
    "\n",
    "Update your theme, recreate your chart object and rerun v_a11ylint.run_lint() until you no longer have any accessibility issues."
   ]
  },
  {
   "cell_type": "code",
   "execution_count": 52,
   "metadata": {},
   "outputs": [],
   "source": []
  },
  {
   "cell_type": "markdown",
   "metadata": {},
   "source": [
    "## Now, complete [this survey](https://forms.gle/1HhAM22HioBcEuxd6)"
   ]
  }
 ],
 "metadata": {
  "kernelspec": {
   "display_name": "Python 3",
   "language": "python",
   "name": "python3"
  },
  "language_info": {
   "codemirror_mode": {
    "name": "ipython",
    "version": 3
   },
   "file_extension": ".py",
   "mimetype": "text/x-python",
   "name": "python",
   "nbconvert_exporter": "python",
   "pygments_lexer": "ipython3",
   "version": "3.7.1"
  }
 },
 "nbformat": 4,
 "nbformat_minor": 2
}
