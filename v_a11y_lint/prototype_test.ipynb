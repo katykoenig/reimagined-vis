{
 "cells": [
  {
   "cell_type": "markdown",
   "metadata": {},
   "source": [
    "# Reimagined-Vis\n",
    "\n",
    "# v_a11y_lint"
   ]
  },
  {
   "cell_type": "code",
   "execution_count": 13,
   "metadata": {},
   "outputs": [
    {
     "name": "stdout",
     "output_type": "stream",
     "text": [
      "The autoreload extension is already loaded. To reload it, use:\n",
      "  %reload_ext autoreload\n"
     ]
    }
   ],
   "source": [
    "import altair as alt\n",
    "from vega_datasets import data\n",
    "import v_a11ylint as val\n",
    "import test_fns as tf\n",
    "\n",
    "%load_ext autoreload\n",
    "%autoreload 2"
   ]
  },
  {
   "cell_type": "markdown",
   "metadata": {},
   "source": [
    "## Example One: Not very accesibile visualization"
   ]
  },
  {
   "cell_type": "code",
   "execution_count": 2,
   "metadata": {},
   "outputs": [],
   "source": [
    "tf.bad_theme()\n",
    "tf.set_theme(tf.bad_theme)"
   ]
  },
  {
   "cell_type": "code",
   "execution_count": 3,
   "metadata": {},
   "outputs": [
    {
     "data": {
      "text/html": [
       "\n",
       "<div id=\"altair-viz-57b15961e82e4bdabb705369ec22f1d7\"></div>\n",
       "<script type=\"text/javascript\">\n",
       "  (function(spec, embedOpt){\n",
       "    const outputDiv = document.getElementById(\"altair-viz-57b15961e82e4bdabb705369ec22f1d7\");\n",
       "    const paths = {\n",
       "      \"vega\": \"https://cdn.jsdelivr.net/npm//vega@5?noext\",\n",
       "      \"vega-lib\": \"https://cdn.jsdelivr.net/npm//vega-lib?noext\",\n",
       "      \"vega-lite\": \"https://cdn.jsdelivr.net/npm//vega-lite@4.0.2?noext\",\n",
       "      \"vega-embed\": \"https://cdn.jsdelivr.net/npm//vega-embed@6?noext\",\n",
       "    };\n",
       "\n",
       "    function loadScript(lib) {\n",
       "      return new Promise(function(resolve, reject) {\n",
       "        var s = document.createElement('script');\n",
       "        s.src = paths[lib];\n",
       "        s.async = true;\n",
       "        s.onload = () => resolve(paths[lib]);\n",
       "        s.onerror = () => reject(`Error loading script: ${paths[lib]}`);\n",
       "        document.getElementsByTagName(\"head\")[0].appendChild(s);\n",
       "      });\n",
       "    }\n",
       "\n",
       "    function showError(err) {\n",
       "      outputDiv.innerHTML = `<div class=\"error\" style=\"color:red;\">${err}</div>`;\n",
       "      throw err;\n",
       "    }\n",
       "\n",
       "    function displayChart(vegaEmbed) {\n",
       "      vegaEmbed(outputDiv, spec, embedOpt)\n",
       "        .catch(err => showError(`Javascript Error: ${err.message}<br>This usually means there's a typo in your chart specification. See the javascript console for the full traceback.`));\n",
       "    }\n",
       "\n",
       "    if(typeof define === \"function\" && define.amd) {\n",
       "      requirejs.config({paths});\n",
       "      require([\"vega-embed\"], displayChart, err => showError(`Error loading script: ${err.message}`));\n",
       "    } else if (typeof vegaEmbed === \"function\") {\n",
       "      displayChart(vegaEmbed);\n",
       "    } else {\n",
       "      loadScript(\"vega\")\n",
       "        .then(() => loadScript(\"vega-lite\"))\n",
       "        .then(() => loadScript(\"vega-embed\"))\n",
       "        .catch(showError)\n",
       "        .then(() => displayChart(vegaEmbed));\n",
       "    }\n",
       "  })({\"config\": {\"title\": {\"font\": \"Futura\", \"fontSize\": 18, \"anchor\": \"middle\", \"color\": \"#F5F5F5\"}, \"axisX\": {\"grid\": false, \"tickSize\": 6, \"labelFontSize\": 10, \"titleFontSize\": 12}, \"axisY\": {\"labelFontSize\": 10, \"tickSize\": 6, \"titleFontSize\": 12}, \"background\": \"#F5F5F5\", \"text\": {\"color\": \"#D3D3D3\", \"fontSize\": 10, \"fontWeight\": 400, \"baseline\": \"top\", \"filled\": true, \"lineBreak\": \"\\n\"}, \"bar\": {\"fill\": \"DarkGrey\"}, \"line\": {\"strokeWidth\": 3}, \"range\": {\"category\": \"ylorrd\", \"diverging\": \"blueorange\", \"ramp\": \"ylorrd\", \"ordinal\": \"ylorrd\", \"heatmap\": \"viridis\"}, \"legend\": {\"titleFontSize\": 12}}, \"data\": {\"name\": \"data-c2a3e89ba9d5d1687d5e8c28d630a033\"}, \"mark\": \"bar\", \"encoding\": {\"x\": {\"type\": \"nominal\", \"field\": \"a\"}, \"y\": {\"type\": \"quantitative\", \"field\": \"b\"}}, \"$schema\": \"https://vega.github.io/schema/vega-lite/v4.0.2.json\", \"datasets\": {\"data-c2a3e89ba9d5d1687d5e8c28d630a033\": [{\"a\": \"A\", \"b\": 28}, {\"a\": \"B\", \"b\": 55}, {\"a\": \"C\", \"b\": 43}, {\"a\": \"D\", \"b\": 91}, {\"a\": \"E\", \"b\": 81}, {\"a\": \"F\", \"b\": 53}, {\"a\": \"G\", \"b\": 19}, {\"a\": \"H\", \"b\": 87}, {\"a\": \"I\", \"b\": 52}]}}, {\"mode\": \"vega-lite\"});\n",
       "</script>"
      ],
      "text/plain": [
       "alt.Chart(...)"
      ]
     },
     "execution_count": 3,
     "metadata": {},
     "output_type": "execute_result"
    }
   ],
   "source": [
    "basic_bar = tf.make_basic_bar()\n",
    "basic_bar"
   ]
  },
  {
   "cell_type": "code",
   "execution_count": 4,
   "metadata": {},
   "outputs": [
    {
     "data": {
      "text/plain": [
       "{'color': {'text to background': 'colors too similar',\n",
       "  'title color to background': 'colors too similar'},\n",
       " 'font': {'axisX': {'titleFontSize': 'font size too small: font should be at least 16px'},\n",
       "  'axisY': {'titleFontSize': 'font size too small: font should be at least 16px'},\n",
       "  'text': {'fontSize': 'font size too small: font should be at least 16px'},\n",
       "  'legend': {'titleFontSize': 'font size too small: font should be at least 16px'}},\n",
       " 'title': 'Chart needs title'}"
      ]
     },
     "execution_count": 4,
     "metadata": {},
     "output_type": "execute_result"
    }
   ],
   "source": [
    "val.run_lint(basic_bar)"
   ]
  },
  {
   "cell_type": "markdown",
   "metadata": {},
   "source": [
    "## Example Two: A Better Visualization"
   ]
  },
  {
   "cell_type": "code",
   "execution_count": 5,
   "metadata": {},
   "outputs": [],
   "source": [
    "tf.better_theme()\n",
    "tf.set_theme(tf.better_theme)"
   ]
  },
  {
   "cell_type": "code",
   "execution_count": 6,
   "metadata": {},
   "outputs": [
    {
     "data": {
      "text/html": [
       "\n",
       "<div id=\"altair-viz-c1c5b63fccf4409ea0482525dfd83797\"></div>\n",
       "<script type=\"text/javascript\">\n",
       "  (function(spec, embedOpt){\n",
       "    const outputDiv = document.getElementById(\"altair-viz-c1c5b63fccf4409ea0482525dfd83797\");\n",
       "    const paths = {\n",
       "      \"vega\": \"https://cdn.jsdelivr.net/npm//vega@5?noext\",\n",
       "      \"vega-lib\": \"https://cdn.jsdelivr.net/npm//vega-lib?noext\",\n",
       "      \"vega-lite\": \"https://cdn.jsdelivr.net/npm//vega-lite@4.0.2?noext\",\n",
       "      \"vega-embed\": \"https://cdn.jsdelivr.net/npm//vega-embed@6?noext\",\n",
       "    };\n",
       "\n",
       "    function loadScript(lib) {\n",
       "      return new Promise(function(resolve, reject) {\n",
       "        var s = document.createElement('script');\n",
       "        s.src = paths[lib];\n",
       "        s.async = true;\n",
       "        s.onload = () => resolve(paths[lib]);\n",
       "        s.onerror = () => reject(`Error loading script: ${paths[lib]}`);\n",
       "        document.getElementsByTagName(\"head\")[0].appendChild(s);\n",
       "      });\n",
       "    }\n",
       "\n",
       "    function showError(err) {\n",
       "      outputDiv.innerHTML = `<div class=\"error\" style=\"color:red;\">${err}</div>`;\n",
       "      throw err;\n",
       "    }\n",
       "\n",
       "    function displayChart(vegaEmbed) {\n",
       "      vegaEmbed(outputDiv, spec, embedOpt)\n",
       "        .catch(err => showError(`Javascript Error: ${err.message}<br>This usually means there's a typo in your chart specification. See the javascript console for the full traceback.`));\n",
       "    }\n",
       "\n",
       "    if(typeof define === \"function\" && define.amd) {\n",
       "      requirejs.config({paths});\n",
       "      require([\"vega-embed\"], displayChart, err => showError(`Error loading script: ${err.message}`));\n",
       "    } else if (typeof vegaEmbed === \"function\") {\n",
       "      displayChart(vegaEmbed);\n",
       "    } else {\n",
       "      loadScript(\"vega\")\n",
       "        .then(() => loadScript(\"vega-lite\"))\n",
       "        .then(() => loadScript(\"vega-embed\"))\n",
       "        .catch(showError)\n",
       "        .then(() => displayChart(vegaEmbed));\n",
       "    }\n",
       "  })({\"config\": {\"title\": {\"font\": \"Futura\", \"fontSize\": 18, \"anchor\": \"middle\", \"color\": \"#800000\"}, \"axisX\": {\"grid\": false, \"tickSize\": 6, \"labelFontSize\": 16, \"titleFontSize\": 16}, \"axisY\": {\"labelFontSize\": 16, \"tickSize\": 6, \"titleFontSize\": 16}, \"background\": \"white\", \"text\": {\"color\": \"#D3D3D3\", \"fontSize\": 16, \"fontWeight\": 400, \"baseline\": \"top\", \"filled\": true, \"lineBreak\": \"\\n\"}, \"bar\": {\"fill\": \"DarkGrey\"}, \"line\": {\"strokeWidth\": 3}, \"range\": {\"category\": \"ylorrd\", \"diverging\": \"blueorange\", \"ramp\": \"ylorrd\", \"ordinal\": \"ylorrd\", \"heatmap\": \"viridis\"}, \"legend\": {\"titleFontSize\": 12}}, \"data\": {\"name\": \"data-c2a3e89ba9d5d1687d5e8c28d630a033\"}, \"mark\": \"bar\", \"encoding\": {\"x\": {\"type\": \"nominal\", \"field\": \"a\"}, \"y\": {\"type\": \"quantitative\", \"field\": \"b\"}}, \"title\": \"A vs. B\", \"$schema\": \"https://vega.github.io/schema/vega-lite/v4.0.2.json\", \"datasets\": {\"data-c2a3e89ba9d5d1687d5e8c28d630a033\": [{\"a\": \"A\", \"b\": 28}, {\"a\": \"B\", \"b\": 55}, {\"a\": \"C\", \"b\": 43}, {\"a\": \"D\", \"b\": 91}, {\"a\": \"E\", \"b\": 81}, {\"a\": \"F\", \"b\": 53}, {\"a\": \"G\", \"b\": 19}, {\"a\": \"H\", \"b\": 87}, {\"a\": \"I\", \"b\": 52}]}}, {\"mode\": \"vega-lite\"});\n",
       "</script>"
      ],
      "text/plain": [
       "alt.Chart(...)"
      ]
     },
     "execution_count": 6,
     "metadata": {},
     "output_type": "execute_result"
    }
   ],
   "source": [
    "better_chart = tf.make_basic_bar('A vs. B')\n",
    "better_chart"
   ]
  },
  {
   "cell_type": "code",
   "execution_count": 7,
   "metadata": {},
   "outputs": [
    {
     "data": {
      "text/plain": [
       "{'color': {'text to background': 'colors too similar'},\n",
       " 'font': {'legend': {'titleFontSize': 'font size too small: font should be at least 16px'},\n",
       "  'title length': 'Chart title lacks description'}}"
      ]
     },
     "execution_count": 7,
     "metadata": {},
     "output_type": "execute_result"
    }
   ],
   "source": [
    "val.run_lint(better_chart)"
   ]
  },
  {
   "cell_type": "markdown",
   "metadata": {},
   "source": [
    "## Example Three: An Accessible Visualization"
   ]
  },
  {
   "cell_type": "code",
   "execution_count": 8,
   "metadata": {},
   "outputs": [],
   "source": [
    "tf.best_theme()\n",
    "tf.set_theme(tf.best_theme)"
   ]
  },
  {
   "cell_type": "code",
   "execution_count": 9,
   "metadata": {},
   "outputs": [
    {
     "data": {
      "text/html": [
       "\n",
       "<div id=\"altair-viz-fc354b2b99404d7999d131ab90d51d4f\"></div>\n",
       "<script type=\"text/javascript\">\n",
       "  (function(spec, embedOpt){\n",
       "    const outputDiv = document.getElementById(\"altair-viz-fc354b2b99404d7999d131ab90d51d4f\");\n",
       "    const paths = {\n",
       "      \"vega\": \"https://cdn.jsdelivr.net/npm//vega@5?noext\",\n",
       "      \"vega-lib\": \"https://cdn.jsdelivr.net/npm//vega-lib?noext\",\n",
       "      \"vega-lite\": \"https://cdn.jsdelivr.net/npm//vega-lite@4.0.2?noext\",\n",
       "      \"vega-embed\": \"https://cdn.jsdelivr.net/npm//vega-embed@6?noext\",\n",
       "    };\n",
       "\n",
       "    function loadScript(lib) {\n",
       "      return new Promise(function(resolve, reject) {\n",
       "        var s = document.createElement('script');\n",
       "        s.src = paths[lib];\n",
       "        s.async = true;\n",
       "        s.onload = () => resolve(paths[lib]);\n",
       "        s.onerror = () => reject(`Error loading script: ${paths[lib]}`);\n",
       "        document.getElementsByTagName(\"head\")[0].appendChild(s);\n",
       "      });\n",
       "    }\n",
       "\n",
       "    function showError(err) {\n",
       "      outputDiv.innerHTML = `<div class=\"error\" style=\"color:red;\">${err}</div>`;\n",
       "      throw err;\n",
       "    }\n",
       "\n",
       "    function displayChart(vegaEmbed) {\n",
       "      vegaEmbed(outputDiv, spec, embedOpt)\n",
       "        .catch(err => showError(`Javascript Error: ${err.message}<br>This usually means there's a typo in your chart specification. See the javascript console for the full traceback.`));\n",
       "    }\n",
       "\n",
       "    if(typeof define === \"function\" && define.amd) {\n",
       "      requirejs.config({paths});\n",
       "      require([\"vega-embed\"], displayChart, err => showError(`Error loading script: ${err.message}`));\n",
       "    } else if (typeof vegaEmbed === \"function\") {\n",
       "      displayChart(vegaEmbed);\n",
       "    } else {\n",
       "      loadScript(\"vega\")\n",
       "        .then(() => loadScript(\"vega-lite\"))\n",
       "        .then(() => loadScript(\"vega-embed\"))\n",
       "        .catch(showError)\n",
       "        .then(() => displayChart(vegaEmbed));\n",
       "    }\n",
       "  })({\"config\": {\"title\": {\"font\": \"Futura\", \"fontSize\": 18, \"anchor\": \"middle\", \"color\": \"#800000\"}, \"axisX\": {\"grid\": false, \"tickSize\": 6, \"labelFontSize\": 16, \"titleFontSize\": 16}, \"axisY\": {\"labelFontSize\": 16, \"tickSize\": 6, \"titleFontSize\": 16}, \"background\": \"white\", \"text\": {\"color\": \"#800000\", \"fontSize\": 16, \"fontWeight\": 400, \"baseline\": \"top\", \"filled\": true, \"lineBreak\": \"\\n\"}, \"bar\": {\"fill\": \"#003366\"}, \"line\": {\"strokeWidth\": 3}, \"range\": {\"category\": \"ylorrd\", \"diverging\": \"blueorange\", \"ramp\": \"ylorrd\", \"ordinal\": \"ylorrd\", \"heatmap\": \"viridis\"}, \"legend\": {\"titleFontSize\": 16}}, \"data\": {\"name\": \"data-c2a3e89ba9d5d1687d5e8c28d630a033\"}, \"mark\": \"bar\", \"encoding\": {\"x\": {\"type\": \"nominal\", \"field\": \"a\"}, \"y\": {\"type\": \"quantitative\", \"field\": \"b\"}}, \"title\": \"Variable A by Variable B: Category D Highest\", \"$schema\": \"https://vega.github.io/schema/vega-lite/v4.0.2.json\", \"datasets\": {\"data-c2a3e89ba9d5d1687d5e8c28d630a033\": [{\"a\": \"A\", \"b\": 28}, {\"a\": \"B\", \"b\": 55}, {\"a\": \"C\", \"b\": 43}, {\"a\": \"D\", \"b\": 91}, {\"a\": \"E\", \"b\": 81}, {\"a\": \"F\", \"b\": 53}, {\"a\": \"G\", \"b\": 19}, {\"a\": \"H\", \"b\": 87}, {\"a\": \"I\", \"b\": 52}]}}, {\"mode\": \"vega-lite\"});\n",
       "</script>"
      ],
      "text/plain": [
       "alt.Chart(...)"
      ]
     },
     "execution_count": 9,
     "metadata": {},
     "output_type": "execute_result"
    }
   ],
   "source": [
    "best_chart = tf.make_basic_bar('Variable A by Variable B: Category D Highest')\n",
    "best_chart"
   ]
  },
  {
   "cell_type": "code",
   "execution_count": 10,
   "metadata": {},
   "outputs": [
    {
     "data": {
      "text/plain": [
       "'Visualization is Accessible!'"
      ]
     },
     "execution_count": 10,
     "metadata": {},
     "output_type": "execute_result"
    }
   ],
   "source": [
    "val.run_lint(best_chart)"
   ]
  },
  {
   "cell_type": "markdown",
   "metadata": {},
   "source": [
    "## Your turn"
   ]
  },
  {
   "cell_type": "markdown",
   "metadata": {},
   "source": [
    "### Set a theme"
   ]
  },
  {
   "cell_type": "code",
   "execution_count": 11,
   "metadata": {},
   "outputs": [],
   "source": [
    "# to default theme\n",
    "# tf.reset_theme()"
   ]
  },
  {
   "cell_type": "code",
   "execution_count": 14,
   "metadata": {},
   "outputs": [
    {
     "data": {
      "text/plain": [
       "ThemeRegistry.enable('my_custom_theme')"
      ]
     },
     "execution_count": 14,
     "metadata": {},
     "output_type": "execute_result"
    }
   ],
   "source": [
    "# credit to Lilian Huang for this theme\n",
    "# https://lilianhj.github.io/dataviz-static-portfolio/\n",
    "\n",
    "# build/edit for your own theme\n",
    "def class_theme():\n",
    "    main_palette = [\"#385ed4\",\"#55b748\",\"#db2b27\",\"#b589da\",\"#b75f31\",\"#1696d2\",\"#fdbf11\",\"#ff1ae4\"]\n",
    "    sequential_palette = [\"#cfe8f3\",\"#aaecff\",\"#a2d4ec\",\"#73bfe2\",\"#46abdb\",\"#1696d2\",\"#12719e\",\"#0a4c6a\",\"#062635\"]\n",
    "    return {\n",
    "    \"config\": {\n",
    "            \"title\": {\n",
    "                \"font\": \"Futura\",\n",
    "                \"fontSize\": 18,\n",
    "                \"anchor\": \"middle\",\n",
    "                \"color\": \"darkblue\",\n",
    "            },\n",
    "         \"axisX\": {\n",
    "                \"grid\": False,\n",
    "                \"tickSize\": 6,\n",
    "             \"labelFontSize\": 10,\n",
    "             \"titleFontSize\": 12,\n",
    "         },\n",
    "        \"axisY\": {\n",
    "                \"labelFontSize\": 10,\n",
    "                \"tickSize\": 6,\n",
    "            \"titleFontSize\": 12,\n",
    "         },\n",
    "        \"background\": \"white\",\n",
    "        \"text\": {\n",
    "               \"color\": \"#686863\",\n",
    "               \"fontSize\": 10,\n",
    "               \"fontWeight\": 400,\n",
    "            \"baseline\": \"top\",\n",
    "            \"filled\": True,\n",
    "            \"lineBreak\": \"\\n\",\n",
    "           },\n",
    "            \"bar\": {\n",
    "                \"fill\": \"#1696d2\"\n",
    "            },\n",
    "            \"line\": {\n",
    "               \"strokeWidth\": 3,\n",
    "           },\n",
    "        \"range\": {\n",
    "                \"category\": main_palette,\n",
    "                \"diverging\": \"blueorange\",\n",
    "            \"ramp\": sequential_palette,\n",
    "            \"ordinal\": sequential_palette,\n",
    "            \"heatmap\": sequential_palette\n",
    "            },\n",
    "        \"legend\": {\n",
    "                \"titleFontSize\": 12\n",
    "            }\n",
    "    },\n",
    "    }\n",
    "\n",
    "alt.themes.register(\"my_custom_theme\", class_theme)\n",
    "alt.themes.enable(\"my_custom_theme\")"
   ]
  },
  {
   "cell_type": "markdown",
   "metadata": {},
   "source": [
    "### Now, make a chart!\n",
    "Find examples here: https://altair-viz.github.io/gallery/index.html"
   ]
  },
  {
   "cell_type": "code",
   "execution_count": 15,
   "metadata": {},
   "outputs": [
    {
     "data": {
      "text/html": [
       "\n",
       "<div id=\"altair-viz-b27e8a7f8a9941aeb6248c205606b560\"></div>\n",
       "<script type=\"text/javascript\">\n",
       "  (function(spec, embedOpt){\n",
       "    const outputDiv = document.getElementById(\"altair-viz-b27e8a7f8a9941aeb6248c205606b560\");\n",
       "    const paths = {\n",
       "      \"vega\": \"https://cdn.jsdelivr.net/npm//vega@5?noext\",\n",
       "      \"vega-lib\": \"https://cdn.jsdelivr.net/npm//vega-lib?noext\",\n",
       "      \"vega-lite\": \"https://cdn.jsdelivr.net/npm//vega-lite@4.0.2?noext\",\n",
       "      \"vega-embed\": \"https://cdn.jsdelivr.net/npm//vega-embed@6?noext\",\n",
       "    };\n",
       "\n",
       "    function loadScript(lib) {\n",
       "      return new Promise(function(resolve, reject) {\n",
       "        var s = document.createElement('script');\n",
       "        s.src = paths[lib];\n",
       "        s.async = true;\n",
       "        s.onload = () => resolve(paths[lib]);\n",
       "        s.onerror = () => reject(`Error loading script: ${paths[lib]}`);\n",
       "        document.getElementsByTagName(\"head\")[0].appendChild(s);\n",
       "      });\n",
       "    }\n",
       "\n",
       "    function showError(err) {\n",
       "      outputDiv.innerHTML = `<div class=\"error\" style=\"color:red;\">${err}</div>`;\n",
       "      throw err;\n",
       "    }\n",
       "\n",
       "    function displayChart(vegaEmbed) {\n",
       "      vegaEmbed(outputDiv, spec, embedOpt)\n",
       "        .catch(err => showError(`Javascript Error: ${err.message}<br>This usually means there's a typo in your chart specification. See the javascript console for the full traceback.`));\n",
       "    }\n",
       "\n",
       "    if(typeof define === \"function\" && define.amd) {\n",
       "      requirejs.config({paths});\n",
       "      require([\"vega-embed\"], displayChart, err => showError(`Error loading script: ${err.message}`));\n",
       "    } else if (typeof vegaEmbed === \"function\") {\n",
       "      displayChart(vegaEmbed);\n",
       "    } else {\n",
       "      loadScript(\"vega\")\n",
       "        .then(() => loadScript(\"vega-lite\"))\n",
       "        .then(() => loadScript(\"vega-embed\"))\n",
       "        .catch(showError)\n",
       "        .then(() => displayChart(vegaEmbed));\n",
       "    }\n",
       "  })({\"config\": {\"title\": {\"font\": \"Futura\", \"fontSize\": 18, \"anchor\": \"middle\", \"color\": \"darkblue\"}, \"axisX\": {\"grid\": false, \"tickSize\": 6, \"labelFontSize\": 10, \"titleFontSize\": 12}, \"axisY\": {\"labelFontSize\": 10, \"tickSize\": 6, \"titleFontSize\": 12}, \"background\": \"white\", \"text\": {\"color\": \"#686863\", \"fontSize\": 10, \"fontWeight\": 400, \"baseline\": \"top\", \"filled\": true, \"lineBreak\": \"\\n\"}, \"bar\": {\"fill\": \"#1696d2\"}, \"line\": {\"strokeWidth\": 3}, \"range\": {\"category\": [\"#385ed4\", \"#55b748\", \"#db2b27\", \"#b589da\", \"#b75f31\", \"#1696d2\", \"#fdbf11\", \"#ff1ae4\"], \"diverging\": \"blueorange\", \"ramp\": [\"#cfe8f3\", \"#aaecff\", \"#a2d4ec\", \"#73bfe2\", \"#46abdb\", \"#1696d2\", \"#12719e\", \"#0a4c6a\", \"#062635\"], \"ordinal\": [\"#cfe8f3\", \"#aaecff\", \"#a2d4ec\", \"#73bfe2\", \"#46abdb\", \"#1696d2\", \"#12719e\", \"#0a4c6a\", \"#062635\"], \"heatmap\": [\"#cfe8f3\", \"#aaecff\", \"#a2d4ec\", \"#73bfe2\", \"#46abdb\", \"#1696d2\", \"#12719e\", \"#0a4c6a\", \"#062635\"]}, \"legend\": {\"titleFontSize\": 12}}, \"data\": {\"url\": \"https://vega.github.io/vega-datasets/data/movies.json\"}, \"mark\": \"bar\", \"encoding\": {\"color\": {\"type\": \"quantitative\", \"field\": \"IMDB_Rating\"}, \"x\": {\"type\": \"nominal\", \"field\": \"Title\", \"sort\": \"-y\"}, \"y\": {\"type\": \"quantitative\", \"field\": \"IMDB_Rating\"}}, \"transform\": [{\"window\": [{\"op\": \"rank\", \"field\": \"IMDB_Rating\", \"as\": \"rank\"}], \"sort\": [{\"field\": \"IMDB_Rating\", \"order\": \"descending\"}]}, {\"filter\": \"(datum.rank < 10)\"}], \"$schema\": \"https://vega.github.io/schema/vega-lite/v4.0.2.json\"}, {\"mode\": \"vega-lite\"});\n",
       "</script>"
      ],
      "text/plain": [
       "alt.Chart(...)"
      ]
     },
     "execution_count": 15,
     "metadata": {},
     "output_type": "execute_result"
    }
   ],
   "source": [
    "source = data.movies.url\n",
    "# Top 10 movies by IMBD rating\n",
    "test_chart = alt.Chart(\n",
    "    source,\n",
    ").mark_bar().encode(\n",
    "    x=alt.X('Title:N', sort='-y'),\n",
    "    y=alt.Y('IMDB_Rating:Q'),\n",
    "    color=alt.Color('IMDB_Rating:Q')\n",
    "\n",
    ").transform_window(\n",
    "    rank='rank(IMDB_Rating)',\n",
    "    sort=[alt.SortField('IMDB_Rating', order='descending')]\n",
    ").transform_filter(\n",
    "    (alt.datum.rank < 10)\n",
    ")\n",
    "\n",
    "test_chart"
   ]
  },
  {
   "cell_type": "code",
   "execution_count": 16,
   "metadata": {},
   "outputs": [
    {
     "data": {
      "text/plain": [
       "{'color': {'text to background': 'colors too similar'},\n",
       " 'font': {'axisX': {'titleFontSize': 'font size too small: font should be at least 16px'},\n",
       "  'axisY': {'titleFontSize': 'font size too small: font should be at least 16px'},\n",
       "  'text': {'fontSize': 'font size too small: font should be at least 16px'},\n",
       "  'legend': {'titleFontSize': 'font size too small: font should be at least 16px'}},\n",
       " 'title': 'Chart needs title'}"
      ]
     },
     "execution_count": 16,
     "metadata": {},
     "output_type": "execute_result"
    }
   ],
   "source": [
    "val.run_lint(test_chart)"
   ]
  }
 ],
 "metadata": {
  "kernelspec": {
   "display_name": "Python 3",
   "language": "python",
   "name": "python3"
  },
  "language_info": {
   "codemirror_mode": {
    "name": "ipython",
    "version": 3
   },
   "file_extension": ".py",
   "mimetype": "text/x-python",
   "name": "python",
   "nbconvert_exporter": "python",
   "pygments_lexer": "ipython3",
   "version": "3.7.1"
  }
 },
 "nbformat": 4,
 "nbformat_minor": 2
}
